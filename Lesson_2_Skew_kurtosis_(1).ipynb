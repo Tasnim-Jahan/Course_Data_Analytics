{
  "nbformat": 4,
  "nbformat_minor": 0,
  "metadata": {
    "colab": {
      "provenance": [],
      "include_colab_link": true
    },
    "kernelspec": {
      "name": "python3",
      "display_name": "Python 3"
    },
    "language_info": {
      "name": "python"
    }
  },
  "cells": [
    {
      "cell_type": "markdown",
      "metadata": {
        "id": "view-in-github",
        "colab_type": "text"
      },
      "source": [
        "<a href=\"https://colab.research.google.com/github/Tasnim-Jahan/Course_Data_Analytics/blob/main/Lesson_2_Skew_kurtosis_(1).ipynb\" target=\"_parent\"><img src=\"https://colab.research.google.com/assets/colab-badge.svg\" alt=\"Open In Colab\"/></a>"
      ]
    },
    {
      "cell_type": "code",
      "execution_count": null,
      "metadata": {
        "id": "7CcDgPrTqqYk"
      },
      "outputs": [],
      "source": [
        "#python frequency distribution curve\n",
        "import matplotlib.pyplot as plt\n",
        "import numpy as np\n",
        "\n",
        "def plott(distt):\n",
        "  frq = np.asarray(distt, dtype=np.float32)\n",
        "  #print(frq)\n",
        "  plt.hist(frq, bins=np.arange(frq.min(), frq.max()))\n",
        "  #plt.hist(frq, bins=[2,3,4,5,6,8,11])\n",
        "  plt.show()\n",
        "  return frq"
      ]
    },
    {
      "cell_type": "code",
      "source": [
        "#skewness computation\n",
        "#posskew= [2,2,2,2,2,3,3,3,3,3,4,4,4,4,4,5,5,5,5,5,6,6,6,7,7,8,9,10,11,12,13]\n",
        "negskew=[1,2,3,4,5,6,7,7,8,8,8,9,9,9,9,9,9,9,10,10,10,10,10,10,10,10]\n",
        "sumcube=0\n",
        "frq=plott(negskew)\n",
        "#skewness calculation\n",
        "for i in frq:\n",
        "  dif=np.power((i-frq.mean())/frq.std(),3)\n",
        "  sumcube=sumcube+dif\n",
        "skp=sumcube/frq.size\n",
        "print(skp)\n",
        "\n"
      ],
      "metadata": {
        "colab": {
          "base_uri": "https://localhost:8080/",
          "height": 282
        },
        "id": "-4zp8MPUFDYx",
        "outputId": "5e5bd475-ae72-42b8-a820-9dfdef44ff34"
      },
      "execution_count": null,
      "outputs": [
        {
          "output_type": "display_data",
          "data": {
            "image/png": "[encoded data removed]",
            "text/plain": [
              "<Figure size 432x288 with 1 Axes>"
            ]
          },
          "metadata": {
            "needs_background": "light"
          }
        },
        {
          "output_type": "stream",
          "name": "stdout",
          "text": [
            "-1.26031122069435\n"
          ]
        }
      ]
    },
    {
      "cell_type": "code",
      "source": [
        "#kurtosis computation\n",
        "plat=[0, 1, 2,2,3,3,3,4,4,4,4,5,5,5,5,5,6,6,6,6,6,6,7,7,7,7,7,7,7,8,8,8,8,8,8,9,9,9,9,9, 10, 10, 11, 11, 12,13,14]\n",
        "frq=plott(plat)\n",
        "#skewness calculation\n",
        "for i in frq:\n",
        "  dif=np.power((i-frq.mean())/frq.std(),4)\n",
        "  sumcube=sumcube+dif\n",
        "kurtosis=sumcube/frq.size\n",
        "print(kurtosis)"
      ],
      "metadata": {
        "colab": {
          "base_uri": "https://localhost:8080/",
          "height": 282
        },
        "id": "CqnTiVQKTO3q",
        "outputId": "afad1d26-df1c-44fc-e756-aae802ef4ebf"
      },
      "execution_count": null,
      "outputs": [
        {
          "output_type": "display_data",
          "data": {
            "image/png": "[encoded data removed]",
            "text/plain": [
              "<Figure size 432x288 with 1 Axes>"
            ]
          },
          "metadata": {
            "needs_background": "light"
          }
        },
        {
          "output_type": "stream",
          "name": "stdout",
          "text": [
            "2.189890604445957\n"
          ]
        }
      ]
    }
  ]
}